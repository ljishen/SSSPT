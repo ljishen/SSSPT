{
 "cells": [
  {
   "cell_type": "markdown",
   "metadata": {},
   "source": [
    "# Latency Test Report"
   ]
  },
  {
   "cell_type": "markdown",
   "metadata": {},
   "source": [
    "## Experiment Environment"
   ]
  },
  {
   "cell_type": "markdown",
   "metadata": {},
   "source": [
    "### Part 1: Server-based Experiment\n",
    "\n",
    "<table>\n",
    "  <tr>\n",
    "    <th colspan=\"2\"><b>Set Up Parameters</b></th>\n",
    "  </tr>\n",
    "  <tr>\n",
    "    <td><b>Active Range</b></td>\n",
    "    <td>75%<br></td>\n",
    "  </tr>\n",
    "  <tr>\n",
    "    <td><b>Pre Condition 1</b></td>\n",
    "    <td>SEQ 128KB W</td>\n",
    "  </tr>\n",
    "  <tr>\n",
    "    <td>    TOIO - TC/QD</td>\n",
    "    <td>TC 1 / QD 1</td>\n",
    "  </tr>\n",
    "  <tr>\n",
    "    <td>    Duration</td>\n",
    "    <td>2 x User Capacity</td>\n",
    "  </tr>\n",
    "  <tr>\n",
    "    <td><b>Purge Method</b></td>\n",
    "    <td>None</td>\n",
    "  </tr>\n",
    "  <tr>\n",
    "    <td><b>Write Cache</b></td>\n",
    "    <td>Enabled</td>\n",
    "  </tr>\n",
    "</table>\n",
    "\n",
    "\n",
    "<table>\n",
    "  <tr>\n",
    "    <th colspan=\"2\"><b>Test Parameters</b></th>\n",
    "  </tr>\n",
    "  <tr>\n",
    "    <td><b>Active Range</b></td>\n",
    "    <td>75%</td>\n",
    "  </tr>\n",
    "  <tr>\n",
    "    <td><b>Test Stimulus 1</b></td>\n",
    "    <td>RND</td>\n",
    "  </tr>\n",
    "  <tr>\n",
    "    <td>    Block Size (Outer Loop)</td>\n",
    "    <td>8KB, 4KB, 512B</td>\n",
    "  </tr>\n",
    "  <tr>\n",
    "    <td>    R/W Mix (Inner Loop)</td>\n",
    "    <td>100/0, 65/35, 0/100</td>\n",
    "  </tr>\n",
    "  <tr>\n",
    "    <td>    TOIO - TC/QD</td>\n",
    "    <td>TC 1 / QD 1</td>\n",
    "  </tr>\n",
    "</table>"
   ]
  },
  {
   "cell_type": "code",
   "execution_count": null,
   "metadata": {},
   "outputs": [],
   "source": [
    "%run 'common/plot_lat.py'\n",
    "\n",
    "profiles_dirname = 'hp/lat/2'\n",
    "\n",
    "plot_ss_convergence(profiles_dirname)\n",
    "plot_ss_measurement_window(profiles_dirname)\n",
    "plot_measurement_window_tabular(profiles_dirname)"
   ]
  },
  {
   "cell_type": "markdown",
   "metadata": {},
   "source": [
    "## Notes\n",
    "\n",
    "### Definition of ***Steady State***\n",
    "\n",
    "```\n",
    "A device is said to be in Steady State when, for the dependent variable (y)\n",
    "being tracked:\n",
    "    a) Range(y) is less than 10% of Ave(y): Max(y)-Min(y) within the\n",
    "       Measurement Window is no more than 10% of the Ave(y) within the\n",
    "       Measurement Window; and\n",
    "    b) Slope(y) is less than 10%: Max(y)-Min(y), where Max(y) and Min(y) are\n",
    "       the maximum and minimum values on the best linear curve fit of the\n",
    "       y-values within the Measurement Window, is within 10% of Ave(y) value\n",
    "       within the Measurement Window.\n",
    "```\n",
    "\n",
    "### Definition of ***Latency***\n",
    "\n",
    "```\n",
    "The time between when the workload generator makes an IO request and when\n",
    "it receives notification of the request’s completion. In the context of using\n",
    "fio as the I/O generator, it denotes the time from when fio created the I/O\n",
    "unit to completion of the I/O operation.\n",
    "```"
   ]
  },
  {
   "cell_type": "markdown",
   "metadata": {},
   "source": [
    "## References\n",
    "\n",
    "- [Solid State Storage (SSS) Performance Test Specification (PTS) v2.0.1](https://www.snia.org/sites/default/files/technical_work/PTS/SSS_PTS_2.0.1.pdf)"
   ]
  }
 ],
 "metadata": {
  "kernelspec": {
   "display_name": "Python 3",
   "language": "python",
   "name": "python3"
  },
  "language_info": {
   "codemirror_mode": {
    "name": "ipython",
    "version": 3
   },
   "file_extension": ".py",
   "mimetype": "text/x-python",
   "name": "python",
   "nbconvert_exporter": "python",
   "pygments_lexer": "ipython3",
   "version": "3.6.3"
  }
 },
 "nbformat": 4,
 "nbformat_minor": 2
}
