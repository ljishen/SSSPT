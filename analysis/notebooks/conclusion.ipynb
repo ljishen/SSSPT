{
 "cells": [
  {
   "cell_type": "markdown",
   "metadata": {},
   "source": [
    "# Performance Test Conclusion"
   ]
  },
  {
   "cell_type": "markdown",
   "metadata": {},
   "source": [
    "### Background\n",
    "\n",
    "- Tested 3 dimensions of performance: **Throughput**, **IOPS**, **Latency**\n",
    "- Involved 3 test platforms: **HP ProLiant DL360p Gen8 (HP)**, **Philip Kufeldt's RockPro64 (Rock64_1)** and **Jianshen Liu's RockPro64 (Rock64_2)**\n",
    "- Tested 2 drives **256GB-55MS101IT9JW**, **128GB-75AS1011T9HW**, which are passed throughput and IOPS performance stability verification via comparison with other drives of the same model on Rock64_1 and Rock64_2.\n",
    "\n",
    "  - 256GB-55MS101IT9JW @ Rock64_1 = 256GB-55MS101IT9JW @ Rock64_2 <br>\n",
    "    ***(Same drive on two Rock64 platform is consistent)***\n",
    "  - 128GB-75AS1011T9HW @ Rock64_1 = 128GB-75AS1011T9HW @ Rock64_2 <br>\n",
    "    ***(Same drive on two Rock64 platform is consistent)***\n",
    "  - 256GB-55MS101IT9JW @ Rock64_1 = 128GB-75AS1011T9HW @ Rock64_1 <br>\n",
    "    ***(Two drives on the same Rock64 platform are consistent)***\n",
    "  - 128GB-75AS1011T9HW @ Rock64_1 = 128GB-75AS1005T9HW @ Rock64_1 <br>\n",
    "    ***(Two 128GB drives on the same Rock64 platform are consistent)***\n",
    "\n",
    "\n",
    "<table>\n",
    "  <caption><b>Block Size &amp; R/W Mix of Tests</b></caption>\n",
    "  <tr>\n",
    "    <td><b>Test</b></td>\n",
    "    <td><b>Block Size &amp; R/W Mix (%)</b></td>\n",
    "  </tr>\n",
    "  <tr>\n",
    "    <td><b>Throughput</b></td>\n",
    "    <td>['4KB', '8KB', '16KB', '32KB', '128KB', '1024KB']<br>[100/0, 0/100]<br></td>\n",
    "  </tr>\n",
    "  <tr>\n",
    "    <td><b>IOPS</b></td>\n",
    "    <td>['1024KB', '128KB', '64KB', '32KB', '16KB', '8KB', '4KB', '512B']<br>[100/0, 95/5, 65/35, 50/50, 35/65, 5/95, 0/100]<br></td>\n",
    "  </tr>\n",
    "  <tr>\n",
    "    <td><b>Latency</b></td>\n",
    "    <td>['8KB', '4KB', '512B']<br>[100/0, 65/35, 0/100]</td>\n",
    "  </tr>\n",
    "</table>\n",
    "\n",
    "---\n",
    "* *Notes:*\n",
    "  1. \"=\" represents performance consistency.\n",
    "  2. Performance consistency means within the steady state measurement window (SSMW),\n",
    "     the difference of the corresponding data point is less than **10%**.\n",
    "     Each SSMW contains 5 data points.\n",
    "---\n",
    "\n",
    "\n",
    "### Conclusion\n",
    "\n",
    "1. For each of the 3 test dimensions, the performance of these two drives on each of the 3 platforms is consistent.\n",
    "  - 256GB-55MS101IT9JW @ Rock64_1 = 128GB-75AS1011T9HW @ Rock64_1 *(latency not tested)*\n",
    "  - 256GB-55MS101IT9JW @ Rock64_2 = 128GB-75AS1011T9HW @ Rock64_2\n",
    "  - 256GB-55MS101IT9JW @ HP = 128GB-75AS1011T9HW @ HP\n",
    "1. Platforms comparison:\n",
    "   - **Throughput**: **HP** performs better than the **Rock64** at block size 4KB and 8KB for R/W Mix 100/0 (read) and 0/100 (write) because of the performance limitation of the the BIG core on the Rock64. For all the other block sizes, **Rock64** performs better than the **HP** for both the read and write I/O patterns.\n",
    "   - **IOPS**: For all R/W Mixes, the performance of these two platforms with block sizes of 512B, 4KB and 8KB is not consistent and **HP** achieves **higher** IOPS than **Rock64** platform for these 3 cases. For all the other combinations of block sizes and R/W Mixes, the values of IOPS from these two platforms are consistent. No CPU bottleneck is detected during the IOPS tests.\n",
    "   - **Latency**: For all different block sizes and R/W Mixes, the **Rock64** always has **higher** latency than the **HP**. No CPU bottleneck is detected during the latency tests."
   ]
  }
 ],
 "metadata": {
  "kernelspec": {
   "display_name": "Python 3",
   "language": "python",
   "name": "python3"
  },
  "language_info": {
   "codemirror_mode": {
    "name": "ipython",
    "version": 3
   },
   "file_extension": ".py",
   "mimetype": "text/x-python",
   "name": "python",
   "nbconvert_exporter": "python",
   "pygments_lexer": "ipython3",
   "version": "3.6.3"
  }
 },
 "nbformat": 4,
 "nbformat_minor": 2
}
