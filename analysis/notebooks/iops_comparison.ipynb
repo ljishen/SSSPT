{
 "cells": [
  {
   "cell_type": "markdown",
   "metadata": {},
   "source": [
    "# IOPS Comparison"
   ]
  },
  {
   "cell_type": "code",
   "execution_count": 1,
   "metadata": {},
   "outputs": [],
   "source": [
    "%run 'common/plot_iops.py'"
   ]
  },
  {
   "cell_type": "markdown",
   "metadata": {},
   "source": [
    "### IOPS - HP"
   ]
  },
  {
   "cell_type": "code",
   "execution_count": 2,
   "metadata": {},
   "outputs": [
    {
     "data": {
      "text/markdown": [
       "---"
      ],
      "text/plain": [
       "<IPython.core.display.Markdown object>"
      ]
     },
     "metadata": {},
     "output_type": "display_data"
    },
    {
     "data": {
      "text/html": [
       "    <table>\n",
       "      <caption><b>IOPS - ALL RW Mix & BS - Tabular Data</b></caption>\n",
       "      <tr>\n",
       "        <td rowspan=\"2\"><b>Block Size</b></td>\n",
       "        <td colspan=\"7\"><b>Read / Write Mix %</b></td>\n",
       "      </tr>\n",
       "      <tr>\n",
       "        <td><b>100/0</b></td><td><b>95/5</b></td><td><b>65/35</b></td><td><b>50/50</b></td><td><b>35/65</b></td><td><b>5/95</b></td><td><b>0/100</b></td>\n",
       "      </tr>\n",
       "      <tr><td><b>1024KB</b></td><td>372.013</td><td>352.875</td><td>290.088</td><td>279.379</td><td>243.846</td><td>224.208</td><td>231.717</td></tr><tr><td><b>128KB</b></td><td>2929.486</td><td>2598.506</td><td>1894.948</td><td>1889.720</td><td>1654.800</td><td>1555.485</td><td>1599.916</td></tr><tr><td><b>64KB</b></td><td>5787.631</td><td>5062.750</td><td>3698.537</td><td>3309.904</td><td>3089.316</td><td>2955.032</td><td>3113.897</td></tr><tr><td><b>32KB</b></td><td>11239.169</td><td>10125.797</td><td>6362.554</td><td>6256.347</td><td>5937.401</td><td>5932.041</td><td>6057.557</td></tr><tr><td><b>16KB</b></td><td>20498.450</td><td>18287.290</td><td>12789.522</td><td>13221.044</td><td>11852.306</td><td>10289.852</td><td>11401.119</td></tr><tr><td><b>8KB</b></td><td>32052.439</td><td>29924.221</td><td>23883.266</td><td>22655.881</td><td>21244.895</td><td>16838.437</td><td>17243.822</td></tr><tr><td><b>4KB</b></td><td>35688.193</td><td>33809.072</td><td>32259.619</td><td>31895.051</td><td>29443.323</td><td>23288.830</td><td>23695.922</td></tr><tr><td><b>512B</b></td><td>41170.760</td><td>37529.231</td><td>32206.270</td><td>32930.790</td><td>29592.942</td><td>22677.227</td><td>23083.303</td></tr>\n",
       "    </table>    "
      ],
      "text/plain": [
       "<IPython.core.display.HTML object>"
      ]
     },
     "metadata": {},
     "output_type": "display_data"
    }
   ],
   "source": [
    "plot_measurement_window_tabular('hp/iops/2')"
   ]
  },
  {
   "cell_type": "markdown",
   "metadata": {},
   "source": [
    "### IOPS - RockPro64-1"
   ]
  },
  {
   "cell_type": "code",
   "execution_count": 3,
   "metadata": {},
   "outputs": [
    {
     "data": {
      "text/markdown": [
       "---"
      ],
      "text/plain": [
       "<IPython.core.display.Markdown object>"
      ]
     },
     "metadata": {},
     "output_type": "display_data"
    },
    {
     "data": {
      "text/html": [
       "    <table>\n",
       "      <caption><b>IOPS - ALL RW Mix & BS - Tabular Data</b></caption>\n",
       "      <tr>\n",
       "        <td rowspan=\"2\"><b>Block Size</b></td>\n",
       "        <td colspan=\"7\"><b>Read / Write Mix %</b></td>\n",
       "      </tr>\n",
       "      <tr>\n",
       "        <td><b>100/0</b></td><td><b>95/5</b></td><td><b>65/35</b></td><td><b>50/50</b></td><td><b>35/65</b></td><td><b>5/95</b></td><td><b>0/100</b></td>\n",
       "      </tr>\n",
       "      <tr><td><b>1024KB</b></td><td>416.528</td><td>398.548</td><td>309.257</td><td>304.021</td><td>266.891</td><td>231.189</td><td>250.024</td></tr><tr><td><b>128KB</b></td><td>3196.473</td><td>2862.447</td><td>2130.785</td><td>2014.434</td><td>1719.772</td><td>1555.853</td><td>1836.254</td></tr><tr><td><b>64KB</b></td><td>6088.581</td><td>5470.268</td><td>3803.659</td><td>3541.800</td><td>3371.922</td><td>3114.040</td><td>3315.095</td></tr><tr><td><b>32KB</b></td><td>11550.716</td><td>10368.588</td><td>6801.670</td><td>6559.867</td><td>5523.408</td><td>5709.867</td><td>4577.319</td></tr><tr><td><b>16KB</b></td><td>21449.277</td><td>18616.868</td><td>13269.415</td><td>12527.523</td><td>12076.820</td><td>10112.492</td><td>9026.852</td></tr><tr><td><b>8KB</b></td><td>25914.134</td><td>24965.817</td><td>19989.543</td><td>21194.864</td><td>18523.543</td><td>11385.535</td><td>12663.085</td></tr><tr><td><b>4KB</b></td><td>28835.929</td><td>27818.906</td><td>25816.167</td><td>25542.459</td><td>24946.868</td><td>20180.870</td><td>15132.748</td></tr><tr><td><b>512B</b></td><td>30045.506</td><td>29298.490</td><td>27091.721</td><td>26895.348</td><td>26773.853</td><td>21263.231</td><td>18523.991</td></tr>\n",
       "    </table>    "
      ],
      "text/plain": [
       "<IPython.core.display.HTML object>"
      ]
     },
     "metadata": {},
     "output_type": "display_data"
    }
   ],
   "source": [
    "plot_measurement_window_tabular('rockpro64/iops/1')"
   ]
  }
 ],
 "metadata": {
  "kernelspec": {
   "display_name": "Python 3",
   "language": "python",
   "name": "python3"
  },
  "language_info": {
   "codemirror_mode": {
    "name": "ipython",
    "version": 3
   },
   "file_extension": ".py",
   "mimetype": "text/x-python",
   "name": "python",
   "nbconvert_exporter": "python",
   "pygments_lexer": "ipython3",
   "version": "3.6.5"
  }
 },
 "nbformat": 4,
 "nbformat_minor": 2
}
